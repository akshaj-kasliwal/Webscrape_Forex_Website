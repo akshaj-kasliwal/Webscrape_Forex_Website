{
 "cells": [
  {
   "cell_type": "code",
   "execution_count": 21,
   "id": "b7215954",
   "metadata": {},
   "outputs": [
    {
     "name": "stdout",
     "output_type": "stream",
     "text": [
      "{'Name': '', 'Image': 'earnfore.com'}\n"
     ]
    }
   ],
   "source": [
    "import json\n",
    "\n",
    "AIRTABLE_PAT = \"YOUR_PERSONAL_ACCESS_TOKEN\"\n",
    "AIRTABLE_BASE_ID = \"YOUR_BASE_ID\"\n",
    "BASE_TABLE_NAME = \"YOUR_BASE_TABLE\"\n",
    "\n",
    "url = f\"https://api.airtable.com/v0/{AIRTABLE_BASE_ID}/{BASE_TABLE_NAME}\"\n",
    "\n",
    "for item in data:\n",
    "    # Assuming \"payment_type\" is the field containing the payment type name\n",
    "\n",
    "    # Find the row ID corresponding to the payment type\n",
    "    payment_type = item.get(\"payment_type\")\n",
    "    row_id = None\n",
    "    for record in records:\n",
    "        fields = record.get(\"fields\", {})\n",
    "        if fields.get(\"Payment Type\") == payment_type:\n",
    "            row_id = record.get(\"id\")\n",
    "            break\n",
    "\n",
    "    if row_id:\n",
    "        # Update the \"TYPE OF\" column in the base table\n",
    "        payload = {\n",
    "            \"records\": [\n",
    "                {\n",
    "                    \"id\": item.get(\"id\"),  # Replace with the appropriate row ID in the base table\n",
    "                    \"fields\": {\n",
    "                        \"TYPE OF\": [\n",
    "                            {\n",
    "                                \"id\": row_id,\n",
    "                                \"table\": \"Payment - FB\"\n",
    "                            }\n",
    "                        ]\n",
    "                    }\n",
    "                }\n",
    "            ]\n",
    "        }\n",
    "        response = requests.patch(url, data=json.dumps(payload), headers=headers)\n",
    "        if response.status_code == 200:\n",
    "            print(f\"Successfully linked {payment_type} to the row.\")\n",
    "        else:\n",
    "            print(f\"Error linking {payment_type} to the row:\", response.text)\n",
    "    else:\n",
    "        print(f\"Payment type {payment_type} not found in the 'Payment - FB"
   ]
  },
  {
   "cell_type": "code",
   "execution_count": 14,
   "id": "82e2caa7",
   "metadata": {},
   "outputs": [
    {
     "name": "stdout",
     "output_type": "stream",
     "text": [
      "0    [{'id': 'attpjNrofnOBD2GVE', 'width': 20, 'hei...\n",
      "1    [{'id': 'attRM3PrAD5HymTxk', 'width': 32, 'hei...\n",
      "Name: Image, dtype: object\n"
     ]
    }
   ],
   "source": [
    "response = requests.get(url, headers=headers)\n",
    "\n",
    "# Check if the request was successful\n",
    "if response.status_code == 200:\n",
    "    # Retrieve the records data from the response JSON\n",
    "    records = response.json().get(\"records\", [])\n",
    "    \n",
    "    # Extract the necessary fields from the records\n",
    "    data = []\n",
    "    for record in records:\n",
    "        fields = record.get(\"fields\", {})\n",
    "        data.append(fields)\n",
    "    \n",
    "    # Create a pandas DataFrame from the data\n",
    "    df = pd.DataFrame(data)\n",
    "    \n",
    "    # Print the DataFrame\n",
    "    print(df['Image'])\n",
    "else:\n",
    "    print(f\"Error retrieving records: {response.text}\")"
   ]
  },
  {
   "cell_type": "code",
   "execution_count": null,
   "id": "1e83ae17",
   "metadata": {},
   "outputs": [],
   "source": []
  }
 ],
 "metadata": {
  "kernelspec": {
   "display_name": "Python 3 (ipykernel)",
   "language": "python",
   "name": "python3"
  },
  "language_info": {
   "codemirror_mode": {
    "name": "ipython",
    "version": 3
   },
   "file_extension": ".py",
   "mimetype": "text/x-python",
   "name": "python",
   "nbconvert_exporter": "python",
   "pygments_lexer": "ipython3",
   "version": "3.9.13"
  }
 },
 "nbformat": 4,
 "nbformat_minor": 5
}
